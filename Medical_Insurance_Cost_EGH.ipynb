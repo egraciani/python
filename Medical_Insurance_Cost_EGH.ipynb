{
 "cells": [
  {
   "cell_type": "markdown",
   "id": "4293d118-9b75-41e8-8db4-2ef2d0130de0",
   "metadata": {},
   "source": [
    "# Portfolio Project: Analysing Medical Insurance Cost\n",
    "\n",
    "## Project Objectives:\n",
    "- Work locally on your own computer\n",
    "- Import a dataset into your program\n",
    "- Analyze a dataset by building out functions or class methods\n",
    "- Use libraries to assist in your analysis\n",
    "- Optional: Document and organize your findings\n",
    "- Optional: Make predictions about a dataset’s features based on your findings\n",
    "\n",
    "## Data Source:\n",
    "https://www.kaggle.com/datasets/mirichoi0218/insurance\n"
   ]
  },
  {
   "cell_type": "markdown",
   "id": "7f9fa26b-827c-4c5d-83fb-3b4ba3fb2030",
   "metadata": {},
   "source": [
    "## Step 1: Understanding the data\n",
    "\n",
    "### Kaggle gives basic information for each field:\n",
    "\n",
    "*age:* age of primary beneficiary\n",
    "\n",
    "*sex:* insurance contractor gender (female, male)\n",
    "\n",
    "*bmi:* Body mass index, providing an understanding of body, weights that are relatively high or low relative to height,\n",
    "objective index of body weight (kg / m ^ 2) using the ratio of height to weight, ideally 18.5 to 24.9\n",
    "\n",
    "*children:* Number of children covered by health insurance / Number of dependents\n",
    "\n",
    "*smoker:* Smoking\n",
    "\n",
    "*region:* the beneficiary's residential area in the US, northeast, southeast, southwest, northwest.\n",
    "\n",
    "*charges:* Individual medical costs billed by health insurance"
   ]
  },
  {
   "cell_type": "markdown",
   "id": "4f960a74-d003-4706-a3c7-ea1040c5c511",
   "metadata": {},
   "source": [
    "## Step 1: Understanding the data\n",
    "\n",
    "### Kaggle gives basic information for each field:\n",
    "\n",
    "*age:* age of primary beneficiary\n",
    "\n",
    "*sex:* insurance contractor gender (female, male)\n",
    "\n",
    "*bmi:* Body mass index, providing an understanding of body, weights that are relatively high or low relative to height,\n",
    "objective index of body weight (kg / m ^ 2) using the ratio of height to weight, ideally 18.5 to 24.9\n",
    "\n",
    "*children:* Number of children covered by health insurance / Number of dependents\n",
    "\n",
    "*smoker:* Smoking\n",
    "\n",
    "*region:* the beneficiary's residential area in the US, northeast, southeast, southwest, northwest.\n",
    "\n",
    "*charges:* Individual medical costs billed by health insurance"
   ]
  },
  {
   "cell_type": "markdown",
   "id": "f72089d6-4bb5-4421-ac4e-0cddc236c902",
   "metadata": {},
   "source": [
    "## Step 2: Scoping the project"
   ]
  },
  {
   "cell_type": "markdown",
   "id": "74f20883-e514-4dea-b87a-ad9fc54f845c",
   "metadata": {},
   "source": [
    "Defining my project goals:\n",
    "\n",
    "### Goal 1: initial understanding of how data is distributed\n",
    "1.1 What is the average age in the dataset?\n",
    "- we need to sum(age) for all rows and divide by count(rows)\n",
    "  \n",
    "1.2 How is BMI distributed?\n",
    "- find the range of BMI values\n",
    "- learn how to create a visual chart\n",
    "- create visual chart\n",
    "- learn how to calculate statistics like Q1, Q2, Q3, IQR etc\n",
    "- calculate statistics for BMI\n",
    "\n",
    "### Goal 2: advanced understanding\n",
    "\n",
    "2.1 What is the relationship between each variable and the insurance cost?\n",
    "- learn how to run correlation between variables in 2 columns\n",
    "- run correlation\n",
    "- repeat for all variables\n",
    "  \n",
    "2.2 Can we get the function to calculate cost based on the other variables? with which level of confidence?\n",
    "- learn :)\n",
    "  "
   ]
  },
  {
   "cell_type": "markdown",
   "id": "e75b58cd-7faa-46c2-86ac-5bbc6c4a51af",
   "metadata": {},
   "source": [
    "### Step 3: Import the dataset\n"
   ]
  },
  {
   "cell_type": "code",
   "execution_count": 40,
   "id": "e2d69593-a798-44ed-a779-427417d523c1",
   "metadata": {},
   "outputs": [
    {
     "name": "stdout",
     "output_type": "stream",
     "text": [
      "First 5 results:\n",
      "[{'age': '19', 'sex': 'female', 'bmi': '27.9', 'children': '0', 'smoker': 'yes', 'region': 'southwest', 'charges': '16884.924'}, {'age': '18', 'sex': 'male', 'bmi': '33.77', 'children': '1', 'smoker': 'no', 'region': 'southeast', 'charges': '1725.5523'}, {'age': '28', 'sex': 'male', 'bmi': '33', 'children': '3', 'smoker': 'no', 'region': 'southeast', 'charges': '4449.462'}, {'age': '33', 'sex': 'male', 'bmi': '22.705', 'children': '0', 'smoker': 'no', 'region': 'northwest', 'charges': '21984.47061'}, {'age': '32', 'sex': 'male', 'bmi': '28.88', 'children': '0', 'smoker': 'no', 'region': 'northwest', 'charges': '3866.8552'}]\n",
      "---- \n",
      "First row:\n",
      "{'age': '19', 'sex': 'female', 'bmi': '27.9', 'children': '0', 'smoker': 'yes', 'region': 'southwest', 'charges': '16884.924'}\n",
      "---- \n",
      "First value for 'sex':\n",
      "female\n",
      "---- \n"
     ]
    }
   ],
   "source": [
    "import csv\n",
    "\n",
    "path_to_datasources = '/Users/egraciani/Python/CodeAcademy/Datasources/'\n",
    "insurance_data_csv_file = 'insurance.csv'\n",
    "file_path = path_to_datasources + insurance_data_csv_file\n",
    "\n",
    "with open(file_path, newline='') as csvfile:\n",
    "    csvreader = csv.DictReader(csvfile)\n",
    "    data = list(csvreader)\n",
    "# Now `data` is a list of dictionaries, where each dictionary represents a row from the CSV file\n",
    "\n",
    "print('First 5 results:')\n",
    "print(data[:5])\n",
    "print('---- ')\n",
    "# Example: Access the first row (as a dictionary)\n",
    "print('First row:')\n",
    "print(data[0])\n",
    "print('---- ')\n",
    "\n",
    "#Example: Access a specific value from the first row\n",
    "# Replace 'ColumnName' with the actual name of the column you're interested in\n",
    "print('First value for \\'sex\\':')\n",
    "print(data[0]['sex'])\n",
    "print('---- ')\n"
   ]
  },
  {
   "cell_type": "markdown",
   "id": "2de11621-d2a1-4f05-bc4c-84fc408f2c46",
   "metadata": {},
   "source": [
    "## Step 4: Analysis"
   ]
  },
  {
   "cell_type": "markdown",
   "id": "f651f68d-fb0f-4c91-8458-c7bfabf5416d",
   "metadata": {},
   "source": [
    "### 4.1: Clean and prepare data"
   ]
  },
  {
   "cell_type": "markdown",
   "id": "76f1f1cf-46fa-40a0-b8d6-cbe20c71379a",
   "metadata": {},
   "source": [
    "Note: ideally we might want to generate a report with inconsistencies/blanks/errors.\n"
   ]
  },
  {
   "cell_type": "code",
   "execution_count": 56,
   "id": "35dd17be-d8d9-4151-bcdc-6b61d29c90ae",
   "metadata": {},
   "outputs": [
    {
     "name": "stdout",
     "output_type": "stream",
     "text": [
      "First 2 records with cleaned data:\n"
     ]
    },
    {
     "data": {
      "text/plain": [
       "[{'age': 19,\n",
       "  'sex': 'female',\n",
       "  'bmi': 27.9,\n",
       "  'children': 0,\n",
       "  'smoker': 1,\n",
       "  'region': 'southwest',\n",
       "  'charges': 16884.924},\n",
       " {'age': 18,\n",
       "  'sex': 'male',\n",
       "  'bmi': 33.77,\n",
       "  'children': 1,\n",
       "  'smoker': 0,\n",
       "  'region': 'southeast',\n",
       "  'charges': 1725.5523}]"
      ]
     },
     "execution_count": 56,
     "metadata": {},
     "output_type": "execute_result"
    }
   ],
   "source": [
    "#Transform all numbers stored as strings to float or integer\n",
    "def convert_to_numeric(s):\n",
    "    try:\n",
    "        return float(s) if '.' in s else int(s)\n",
    "    except ValueError:\n",
    "        return s\n",
    "\n",
    "def convert_smoker_to_int(smoker_status):\n",
    "    return 1 if smoker_status == 'yes' else 0\n",
    "\n",
    "\n",
    "# Assuming 'age' is among the keys in numeric_keys\n",
    "numeric_keys = ['age', 'bmi', 'children', 'charges']\n",
    "converted_data = [\n",
    "    {k: convert_to_numeric(v) if k in numeric_keys else convert_smoker_to_int(v) if k == 'smoker' else v for k, v in item.items()}\n",
    "    for item in data\n",
    "]\n",
    "print(\"First 2 records with cleaned data:\")\n",
    "converted_data[:2]"
   ]
  },
  {
   "cell_type": "markdown",
   "id": "d1a20cb4-54e4-4eab-a438-a352b9b22478",
   "metadata": {},
   "source": [
    "### 4.2: Goal 1: initial understanding of how data is distributed\n",
    "\n",
    "### 4.2.1 What is the average age in the dataset?\n",
    "\n",
    "we need to sum(age) for all rows and divide by count(rows)\n"
   ]
  },
  {
   "cell_type": "code",
   "execution_count": 59,
   "id": "a083894f-a846-4daa-98e9-adf54df7743b",
   "metadata": {},
   "outputs": [
    {
     "name": "stdout",
     "output_type": "stream",
     "text": [
      "The first 10 ages in the dataset are: [19, 18, 28, 33, 32, 31, 46, 37, 37, 60]\n",
      "The first 10 sexes in the dataset are: ['female', 'male', 'male', 'male', 'male', 'female', 'female', 'female', 'male', 'female']\n",
      "The first 10 bmis in the dataset are: [27.9, 33.77, 33, 22.705, 28.88, 25.74, 33.44, 27.74, 29.83, 25.84]\n",
      "The first 10 childrens in the dataset are: [0, 1, 3, 0, 0, 0, 1, 3, 2, 0]\n",
      "The first 10 smokers in the dataset are: [1, 0, 0, 0, 0, 0, 0, 0, 0, 0]\n",
      "The first 10 regions in the dataset are: ['southwest', 'southeast', 'southeast', 'northwest', 'northwest', 'southeast', 'southeast', 'northwest', 'northeast', 'northwest']\n",
      "The first 10 costs in the dataset are: [16884.924, 1725.5523, 4449.462, 21984.47061, 3866.8552, 3756.6216, 8240.5896, 7281.5056, 6406.4107, 28923.13692]\n"
     ]
    }
   ],
   "source": [
    "#We start creating a function to get any variable from the dataset\n",
    "# Parameters: \n",
    "## variable_to_get is the column in the dataset: 'age', 'sex', 'bmi', 'children', 'smoker', 'region' and 'charges'\n",
    "## data is the dataset to extract the column\n",
    "# Returns: a list containing the values for the variable 'age', 'sex', etc. \n",
    "def get_variable(variable_to_get, data):\n",
    "    if variable_to_get in data[0]:\n",
    "        single_variable = []\n",
    "        for values in data:\n",
    "            single_variable.append(values[variable_to_get])\n",
    "        return single_variable\n",
    "    else: return \"Variable not found in dataset\"\n",
    "\n",
    "#Note: we use the converted_data \n",
    "ages = get_variable('age', converted_data)\n",
    "print(\"The first 10 ages in the dataset are: {age}\".format(age=ages[0:10]))\n",
    "\n",
    "sexes = get_variable('sex', converted_data)\n",
    "print(\"The first 10 sexes in the dataset are: {sex}\".format(sex=sexes[0:10]))\n",
    "\n",
    "bmis = get_variable('bmi', converted_data)\n",
    "print(\"The first 10 bmis in the dataset are: {bmi}\".format(bmi=bmis[0:10]))\n",
    "\n",
    "childrens = get_variable('children', converted_data)\n",
    "print(\"The first 10 childrens in the dataset are: {children}\".format(children=childrens[0:10]))\n",
    "\n",
    "smokers = get_variable('smoker', converted_data)\n",
    "print(\"The first 10 smokers in the dataset are: {smoker}\".format(smoker=smokers[0:10]))\n",
    "\n",
    "regions = get_variable('region', converted_data)\n",
    "print(\"The first 10 regions in the dataset are: {region}\".format(region=regions[0:10]))\n",
    "\n",
    "costs = get_variable('charges', converted_data)\n",
    "print(\"The first 10 costs in the dataset are: {cost}\".format(cost=costs[0:10]))"
   ]
  },
  {
   "cell_type": "code",
   "execution_count": 79,
   "id": "aea77a42-68ba-440f-b244-e631ab0c7430",
   "metadata": {},
   "outputs": [
    {
     "name": "stdout",
     "output_type": "stream",
     "text": [
      "Test 1: get_average(sexes):\n",
      "Not valid.\n",
      "--------------\n",
      "Test 2: get_average(ages):\n",
      "The rounded average is: 39.21\n",
      "--------------\n",
      "Test 3: get_average(bmis):\n",
      "The rounded average is: 30.66\n",
      "--------------\n",
      "Test 4: get_average(costs):\n",
      "The rounded average is: 13270.42\n"
     ]
    }
   ],
   "source": [
    "#Let's create a function to calculate average for a column\n",
    "# Parameter: values is the list with numerical values\n",
    "# Returns: the average or '\n",
    "def get_average(values):\n",
    "    valid_values = [ages, bmis, childrens, costs]\n",
    "    if values in valid_values:\n",
    "        average = sum(values)/len(values)\n",
    "        return average\n",
    "    else: \n",
    "        print('Not valid.')\n",
    "        return None\n",
    "    \n",
    "print('Test 1: get_average(sexes):')\n",
    "get_average(sexes)       \n",
    "print('--------------')    \n",
    "print('Test 2: get_average(ages):')\n",
    "average_age = get_average(ages)  \n",
    "print(\"The rounded average is: {average_age}\".format(average_age=round(average_age,2)))  \n",
    "print('--------------')    \n",
    "print('Test 3: get_average(bmis):')\n",
    "average_bmi = get_average(bmis)  \n",
    "print(\"The rounded average is: {average_bmi}\".format(average_bmi=round(average_bmi,2)))  \n",
    "print('--------------')    \n",
    "print('Test 4: get_average(costs):')\n",
    "average_cost = get_average(costs)  \n",
    "print(\"The rounded average is: {average_cost}\".format(average_cost=round(average_cost,2)))  "
   ]
  },
  {
   "cell_type": "markdown",
   "id": "27f621c8-ab99-4ec4-8138-844cc03e4094",
   "metadata": {},
   "source": [
    "### 4.2.2 How is BMI distributed?\n",
    "\n",
    "- find the range of BMI values\n",
    "- learn how to create a visual chart\n",
    "- create visual chart\n",
    "- learn how to calculate statistics like Q1, Q2, Q3, IQR etc\n",
    "- calculate statistics for BMI"
   ]
  },
  {
   "cell_type": "code",
   "execution_count": 85,
   "id": "07bc4600-68b1-4147-a58f-1084c94fb41b",
   "metadata": {},
   "outputs": [
    {
     "name": "stdout",
     "output_type": "stream",
     "text": [
      "Range is [15.96, 53.13]\n"
     ]
    }
   ],
   "source": [
    "#Range = [min, max]\n",
    "minimum_bmi = min(bmis)\n",
    "maximum_bmi = max(bmis)\n",
    "range_bmi = [minimum_bmi, maximum_bmi]\n",
    "print(f\"Range is {range_bmi}\")"
   ]
  },
  {
   "cell_type": "code",
   "execution_count": 90,
   "id": "58e2fa6e-94c1-4651-be03-780d166b39e2",
   "metadata": {},
   "outputs": [
    {
     "name": "stdout",
     "output_type": "stream",
     "text": [
      "Summary statistics for BMI:\n"
     ]
    },
    {
     "data": {
      "text/plain": [
       "{'Mean': 30.66339686098655,\n",
       " 'Minimum': 15.96,\n",
       " 'Maximum': 53.13,\n",
       " 'Standard Deviation': 6.0959076415894256,\n",
       " 'Q1 (25th Percentile)': 26.29625,\n",
       " 'Q2 (Median, 50th Percentile)': 30.4,\n",
       " 'Q3 (75th Percentile)': 34.69375,\n",
       " 'IQR (Interquartile Range)': 8.3975}"
      ]
     },
     "execution_count": 90,
     "metadata": {},
     "output_type": "execute_result"
    }
   ],
   "source": [
    "import numpy as np\n",
    "\n",
    "def calculate_summary_statistics(values):\n",
    "    statistics = {\n",
    "        'Mean': np.mean(values),\n",
    "        'Minimum': np.min(values),\n",
    "        'Maximum': np.max(values),\n",
    "        'Standard Deviation': np.std(values),\n",
    "        'Q1 (25th Percentile)': np.percentile(values, 25),\n",
    "        'Q2 (Median, 50th Percentile)': np.percentile(values, 50),\n",
    "        'Q3 (75th Percentile)': np.percentile(values, 75),\n",
    "        'IQR (Interquartile Range)': np.percentile(values, 75) - np.percentile(values, 25)\n",
    "    }\n",
    "    return statistics\n",
    "\n",
    "print(\"Summary statistics for BMI:\")\n",
    "calculate_summary_statistics(bmis)\n"
   ]
  },
  {
   "cell_type": "code",
   "execution_count": 95,
   "id": "eb4905f1-c7a9-41d1-b7dc-4e4a600efeff",
   "metadata": {},
   "outputs": [
    {
     "data": {
      "image/png": "[encoded data removed]",
      "text/plain": [
       "<Figure size 640x480 with 1 Axes>"
      ]
     },
     "metadata": {},
     "output_type": "display_data"
    }
   ],
   "source": [
    "import matplotlib.pyplot as plt\n",
    "\n",
    "def plot_histogram(values, name):\n",
    "    plt.hist(values, bins='auto', color='skyblue', edgecolor='black')\n",
    "    plt.title(f'Histogram of {name}')\n",
    "    plt.xlabel(f'{name}')\n",
    "    plt.ylabel('Frequency')\n",
    "    plt.show()\n",
    "\n",
    "plot_histogram(bmis, 'BMI')\n"
   ]
  },
  {
   "cell_type": "code",
   "execution_count": 94,
   "id": "f7573e63-1a53-4833-b02a-c69a29471d91",
   "metadata": {},
   "outputs": [
    {
     "data": {
      "image/png": "[encoded data removed]",
      "text/plain": [
       "<Figure size 640x480 with 1 Axes>"
      ]
     },
     "metadata": {},
     "output_type": "display_data"
    }
   ],
   "source": [
    "def plot_boxplot(values, name):\n",
    "    plt.boxplot(values, vert=False, patch_artist=True, notch=True)\n",
    "    plt.title(f'Boxplot of {name}')\n",
    "    plt.xlabel(f'{name}')\n",
    "    plt.show()\n",
    "\n",
    "plot_boxplot(bmis, 'BMI')\n",
    "\n"
   ]
  },
  {
   "cell_type": "code",
   "execution_count": null,
   "id": "c8ba16ac-fc9a-4b30-af26-612c5ddad96e",
   "metadata": {},
   "outputs": [],
   "source": []
  }
 ],
 "metadata": {
  "kernelspec": {
   "display_name": "Python 3 (ipykernel)",
   "language": "python",
   "name": "python3"
  },
  "language_info": {
   "codemirror_mode": {
    "name": "ipython",
    "version": 3
   },
   "file_extension": ".py",
   "mimetype": "text/x-python",
   "name": "python",
   "nbconvert_exporter": "python",
   "pygments_lexer": "ipython3",
   "version": "3.11.5"
  }
 },
 "nbformat": 4,
 "nbformat_minor": 5
}
