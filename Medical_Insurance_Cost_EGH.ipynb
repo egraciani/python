{
 "cells": [
  {
   "cell_type": "markdown",
   "id": "4293d118-9b75-41e8-8db4-2ef2d0130de0",
   "metadata": {},
   "source": [
    "# Portfolio Project: Analysing Medical Insurance Cost\n",
    "\n",
    "## Project Objectives:\n",
    "- Work locally on your own computer\n",
    "- Import a dataset into your program\n",
    "- Analyze a dataset by building out functions or class methods\n",
    "- Use libraries to assist in your analysis\n",
    "- Optional: Document and organize your findings\n",
    "- Optional: Make predictions about a dataset’s features based on your findings\n",
    "\n",
    "## Data Source:\n",
    "https://www.kaggle.com/datasets/mirichoi0218/insurance\n"
   ]
  },
  {
   "cell_type": "markdown",
   "id": "7f9fa26b-827c-4c5d-83fb-3b4ba3fb2030",
   "metadata": {},
   "source": [
    "## Step 1: Understanding the data\n",
    "\n",
    "### Kaggle gives basic information for each field:\n",
    "\n",
    "*age:* age of primary beneficiary\n",
    "\n",
    "*sex:* insurance contractor gender (female, male)\n",
    "\n",
    "*bmi:* Body mass index, providing an understanding of body, weights that are relatively high or low relative to height,\n",
    "objective index of body weight (kg / m ^ 2) using the ratio of height to weight, ideally 18.5 to 24.9\n",
    "\n",
    "*children:* Number of children covered by health insurance / Number of dependents\n",
    "\n",
    "*smoker:* Smoking\n",
    "\n",
    "*region:* the beneficiary's residential area in the US, northeast, southeast, southwest, northwest.\n",
    "\n",
    "*charges:* Individual medical costs billed by health insurance"
   ]
  },
  {
   "cell_type": "markdown",
   "id": "4f960a74-d003-4706-a3c7-ea1040c5c511",
   "metadata": {},
   "source": [
    "## Step 1: Understanding the data\n",
    "\n",
    "### Kaggle gives basic information for each field:\n",
    "\n",
    "*age:* age of primary beneficiary\n",
    "\n",
    "*sex:* insurance contractor gender (female, male)\n",
    "\n",
    "*bmi:* Body mass index, providing an understanding of body, weights that are relatively high or low relative to height,\n",
    "objective index of body weight (kg / m ^ 2) using the ratio of height to weight, ideally 18.5 to 24.9\n",
    "\n",
    "*children:* Number of children covered by health insurance / Number of dependents\n",
    "\n",
    "*smoker:* Smoking\n",
    "\n",
    "*region:* the beneficiary's residential area in the US, northeast, southeast, southwest, northwest.\n",
    "\n",
    "*charges:* Individual medical costs billed by health insurance"
   ]
  },
  {
   "cell_type": "markdown",
   "id": "f72089d6-4bb5-4421-ac4e-0cddc236c902",
   "metadata": {},
   "source": [
    "## Step 2: Scoping the project"
   ]
  },
  {
   "cell_type": "markdown",
   "id": "74f20883-e514-4dea-b87a-ad9fc54f845c",
   "metadata": {},
   "source": [
    "Defining my project goals:\n",
    "\n",
    "### Goal 1: initial understanding of how data is distributed\n",
    "1.1 What is the average age in the dataset?\n",
    "- we need to sum(age) for all rows and divide by count(rows)\n",
    "  \n",
    "1.2 How is BMI distributed?\n",
    "- find the range of BMI values\n",
    "- learn how to create a visual chart\n",
    "- create visual chart\n",
    "- learn how to calculate statistics like Q1, Q2, Q3, IQR etc\n",
    "- calculate statistics for BMI\n",
    "\n",
    "### Goal 2: advanced understanding\n",
    "\n",
    "2.1 What is the relationship between each variable and the insurance cost?\n",
    "- learn how to run correlation between variables in 2 columns\n",
    "- run correlation\n",
    "- repeat for all variables\n",
    "  \n",
    "2.2 Can we get the function to calculate cost based on the other variables? with which level of confidence?\n",
    "- learn :)\n",
    "  "
   ]
  },
  {
   "cell_type": "markdown",
   "id": "e75b58cd-7faa-46c2-86ac-5bbc6c4a51af",
   "metadata": {},
   "source": [
    "### Step 3: Import the dataset\n"
   ]
  },
  {
   "cell_type": "code",
   "execution_count": 40,
   "id": "e2d69593-a798-44ed-a779-427417d523c1",
   "metadata": {},
   "outputs": [
    {
     "name": "stdout",
     "output_type": "stream",
     "text": [
      "First 5 results:\n",
      "[{'age': '19', 'sex': 'female', 'bmi': '27.9', 'children': '0', 'smoker': 'yes', 'region': 'southwest', 'charges': '16884.924'}, {'age': '18', 'sex': 'male', 'bmi': '33.77', 'children': '1', 'smoker': 'no', 'region': 'southeast', 'charges': '1725.5523'}, {'age': '28', 'sex': 'male', 'bmi': '33', 'children': '3', 'smoker': 'no', 'region': 'southeast', 'charges': '4449.462'}, {'age': '33', 'sex': 'male', 'bmi': '22.705', 'children': '0', 'smoker': 'no', 'region': 'northwest', 'charges': '21984.47061'}, {'age': '32', 'sex': 'male', 'bmi': '28.88', 'children': '0', 'smoker': 'no', 'region': 'northwest', 'charges': '3866.8552'}]\n",
      "---- \n",
      "First row:\n",
      "{'age': '19', 'sex': 'female', 'bmi': '27.9', 'children': '0', 'smoker': 'yes', 'region': 'southwest', 'charges': '16884.924'}\n",
      "---- \n",
      "First value for 'sex':\n",
      "female\n",
      "---- \n"
     ]
    }
   ],
   "source": [
    "import csv\n",
    "\n",
    "path_to_datasources = '/Users/egraciani/Python/CodeAcademy/Datasources/'\n",
    "insurance_data_csv_file = 'insurance.csv'\n",
    "file_path = path_to_datasources + insurance_data_csv_file\n",
    "\n",
    "with open(file_path, newline='') as csvfile:\n",
    "    csvreader = csv.DictReader(csvfile)\n",
    "    data = list(csvreader)\n",
    "# Now `data` is a list of dictionaries, where each dictionary represents a row from the CSV file\n",
    "\n",
    "print('First 5 results:')\n",
    "print(data[:5])\n",
    "print('---- ')\n",
    "# Example: Access the first row (as a dictionary)\n",
    "print('First row:')\n",
    "print(data[0])\n",
    "print('---- ')\n",
    "\n",
    "#Example: Access a specific value from the first row\n",
    "# Replace 'ColumnName' with the actual name of the column you're interested in\n",
    "print('First value for \\'sex\\':')\n",
    "print(data[0]['sex'])\n",
    "print('---- ')\n"
   ]
  },
  {
   "cell_type": "markdown",
   "id": "2de11621-d2a1-4f05-bc4c-84fc408f2c46",
   "metadata": {},
   "source": [
    "## Step 4: Analysis"
   ]
  },
  {
   "cell_type": "markdown",
   "id": "f651f68d-fb0f-4c91-8458-c7bfabf5416d",
   "metadata": {},
   "source": [
    "### 4.1: Clean and prepare data"
   ]
  },
  {
   "cell_type": "markdown",
   "id": "76f1f1cf-46fa-40a0-b8d6-cbe20c71379a",
   "metadata": {},
   "source": [
    "Note: ideally we might want to generate a report with inconsistencies/blanks/errors.\n"
   ]
  },
  {
   "cell_type": "code",
   "execution_count": 53,
   "id": "35dd17be-d8d9-4151-bcdc-6b61d29c90ae",
   "metadata": {},
   "outputs": [
    {
     "data": {
      "text/plain": [
       "[{'age': 19,\n",
       "  'sex': 'female',\n",
       "  'bmi': 27.9,\n",
       "  'children': 0,\n",
       "  'smoker': 'yes',\n",
       "  'region': 'southwest',\n",
       "  'charges': 16884.924},\n",
       " {'age': 18,\n",
       "  'sex': 'male',\n",
       "  'bmi': 33.77,\n",
       "  'children': 1,\n",
       "  'smoker': 'no',\n",
       "  'region': 'southeast',\n",
       "  'charges': 1725.5523}]"
      ]
     },
     "execution_count": 53,
     "metadata": {},
     "output_type": "execute_result"
    }
   ],
   "source": [
    "#Transform all numbers stored as strings to float or integer\n",
    "def convert_to_numeric(s):\n",
    "    try:\n",
    "        return float(s) if '.' in s else int(s)\n",
    "    except ValueError:\n",
    "        return s\n",
    "\n",
    "# Assuming 'age' is among the keys in numeric_keys\n",
    "numeric_keys = ['age', 'bmi', 'children', 'charges']\n",
    "converted_data = [{k: convert_to_numeric(v) if k in numeric_keys else v for k, v in item.items()} for item in data]\n",
    "print(\"First 2\n",
    "converted_data[:2]"
   ]
  },
  {
   "cell_type": "code",
   "execution_count": null,
   "id": "838f1304-c739-4ddb-859f-c7cc1edf253a",
   "metadata": {},
   "outputs": [],
   "source": [
    "def convert_smoker_to_int(smoker_status):\n",
    "    return 1 if smoker_status == 'yes' else 0\n"
   ]
  },
  {
   "cell_type": "markdown",
   "id": "d1a20cb4-54e4-4eab-a438-a352b9b22478",
   "metadata": {},
   "source": [
    "### 4.2: Goal 1: initial understanding of how data is distributed\n",
    "\n",
    "1.1 What is the average age in the dataset?\n",
    "\n",
    "we need to sum(age) for all rows and divide by count(rows)\n"
   ]
  },
  {
   "cell_type": "code",
   "execution_count": 44,
   "id": "a083894f-a846-4daa-98e9-adf54df7743b",
   "metadata": {},
   "outputs": [
    {
     "name": "stdout",
     "output_type": "stream",
     "text": [
      "The first 10 ages in the dataset are: ['19', '18', '28', '33', '32', '31', '46', '37', '37', '60']\n",
      "The first 10 sexes in the dataset are: ['female', 'male', 'male', 'male', 'male', 'female', 'female', 'female', 'male', 'female']\n"
     ]
    }
   ],
   "source": [
    "#We start creating a function to get any variable from the dataset\n",
    "# Parameters: \n",
    "## variable_to_get is the column in the dataset: 'age', 'sex', 'bmi', 'children', 'smoker', 'region' and 'charges'\n",
    "## data is the dataset to extract the column\n",
    "# Returns: a list containing the values for the variable 'age', 'sex', etc. \n",
    "def get_variable(variable_to_get, data):\n",
    "    if variable_to_get in data[0]:\n",
    "        single_variable = []\n",
    "        for values in data:\n",
    "            single_variable.append(values[variable_to_get])\n",
    "        return single_variable\n",
    "    else: return \"Variable not found in dataset\"\n",
    "\n",
    "ages = get_variable('age', data)\n",
    "print(\"The first 10 ages in the dataset are: {age}\".format(age=ages[0:10]))\n",
    "\n",
    "sexes = get_variable('sex', data)\n",
    "print(\"The first 10 sexes in the dataset are: {sex}\".format(sex=sexes[0:10]))"
   ]
  },
  {
   "cell_type": "code",
   "execution_count": 49,
   "id": "aea77a42-68ba-440f-b244-e631ab0c7430",
   "metadata": {},
   "outputs": [
    {
     "name": "stdout",
     "output_type": "stream",
     "text": [
      "Test 1: get_average(sexes):\n",
      "I'm in the else\n",
      "Not all values are numbers.\n",
      "--------------\n",
      "Test 2: get_average(ages):\n",
      "I'm in the else\n",
      "Not all values are numbers.\n"
     ]
    }
   ],
   "source": [
    "#Let's create a function to calculate average for a column\n",
    "# Parameter: values is the list with numerical values\n",
    "# Returns: the average or '\n",
    "def get_average(values):\n",
    "    if all(isinstance(value, (int, float)) for value in values):\n",
    "        print(\"I'm in the if\")\n",
    "        average = sum(values)/len(values)\n",
    "        print(\"The average of the elements is: {average}\".format(average=average))\n",
    "        return average\n",
    "    else: \n",
    "        print(\"I'm in the else\")\n",
    "        print('Not all values are numbers.')\n",
    "        return None\n",
    "    \n",
    "print('Test 1: get_average(sexes):')\n",
    "get_average(sexes)       \n",
    "print('--------------')    \n",
    "print('Test 2: get_average(ages):')\n",
    "get_average(ages)       \n",
    "        "
   ]
  },
  {
   "cell_type": "markdown",
   "id": "27f621c8-ab99-4ec4-8138-844cc03e4094",
   "metadata": {},
   "source": [
    "1.2 How is BMI distributed?\n",
    "\n",
    "find the range of BMI values\n",
    "learn how to create a visual chart\n",
    "create visual chart\n",
    "learn how to calculate statistics like Q1, Q2, Q3, IQR etc\n",
    "calculate statistics for BMI"
   ]
  },
  {
   "cell_type": "markdown",
   "id": "7d3e9c65-942d-44e2-8f82-bcd8466a9f09",
   "metadata": {},
   "source": []
  },
  {
   "cell_type": "code",
   "execution_count": null,
   "id": "58e2fa6e-94c1-4651-be03-780d166b39e2",
   "metadata": {},
   "outputs": [],
   "source": []
  },
  {
   "cell_type": "code",
   "execution_count": null,
   "id": "eb4905f1-c7a9-41d1-b7dc-4e4a600efeff",
   "metadata": {},
   "outputs": [],
   "source": []
  },
  {
   "cell_type": "code",
   "execution_count": null,
   "id": "f7573e63-1a53-4833-b02a-c69a29471d91",
   "metadata": {},
   "outputs": [],
   "source": []
  }
 ],
 "metadata": {
  "kernelspec": {
   "display_name": "Python 3 (ipykernel)",
   "language": "python",
   "name": "python3"
  },
  "language_info": {
   "codemirror_mode": {
    "name": "ipython",
    "version": 3
   },
   "file_extension": ".py",
   "mimetype": "text/x-python",
   "name": "python",
   "nbconvert_exporter": "python",
   "pygments_lexer": "ipython3",
   "version": "3.11.5"
  }
 },
 "nbformat": 4,
 "nbformat_minor": 5
}
