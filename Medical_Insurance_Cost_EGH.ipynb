{
 "cells": [
  {
   "cell_type": "markdown",
   "id": "4293d118-9b75-41e8-8db4-2ef2d0130de0",
   "metadata": {},
   "source": [
    "# Portfolio Project: Analysing Medical Insurance Cost\n",
    "\n",
    "## Project Objectives:\n",
    "- Work locally on your own computer\n",
    "- Import a dataset into your program\n",
    "- Analyze a dataset by building out functions or class methods\n",
    "- Use libraries to assist in your analysis\n",
    "- Optional: Document and organize your findings\n",
    "- Optional: Make predictions about a dataset’s features based on your findings\n",
    "\n",
    "## Data Source:\n",
    "https://www.kaggle.com/datasets/mirichoi0218/insurance\n"
   ]
  },
  {
   "cell_type": "markdown",
   "id": "7f9fa26b-827c-4c5d-83fb-3b4ba3fb2030",
   "metadata": {},
   "source": [
    "## Step 1: Understanding the data\n",
    "\n",
    "### Kaggle gives basic information for each field:\n",
    "\n",
    "*age:* age of primary beneficiary\n",
    "\n",
    "*sex:* insurance contractor gender (female, male)\n",
    "\n",
    "*bmi:* Body mass index, providing an understanding of body, weights that are relatively high or low relative to height,\n",
    "objective index of body weight (kg / m ^ 2) using the ratio of height to weight, ideally 18.5 to 24.9\n",
    "\n",
    "*children:* Number of children covered by health insurance / Number of dependents\n",
    "\n",
    "*smoker:* Smoking\n",
    "\n",
    "*region:* the beneficiary's residential area in the US, northeast, southeast, southwest, northwest.\n",
    "\n",
    "*charges:* Individual medical costs billed by health insurance"
   ]
  },
  {
   "cell_type": "markdown",
   "id": "4f960a74-d003-4706-a3c7-ea1040c5c511",
   "metadata": {},
   "source": [
    "## Step 1: Understanding the data\n",
    "\n",
    "### Kaggle gives basic information for each field:\n",
    "\n",
    "*age:* age of primary beneficiary\n",
    "\n",
    "*sex:* insurance contractor gender (female, male)\n",
    "\n",
    "*bmi:* Body mass index, providing an understanding of body, weights that are relatively high or low relative to height,\n",
    "objective index of body weight (kg / m ^ 2) using the ratio of height to weight, ideally 18.5 to 24.9\n",
    "\n",
    "*children:* Number of children covered by health insurance / Number of dependents\n",
    "\n",
    "*smoker:* Smoking\n",
    "\n",
    "*region:* the beneficiary's residential area in the US, northeast, southeast, southwest, northwest.\n",
    "\n",
    "*charges:* Individual medical costs billed by health insurance"
   ]
  },
  {
   "cell_type": "markdown",
   "id": "f72089d6-4bb5-4421-ac4e-0cddc236c902",
   "metadata": {},
   "source": [
    "## Step 2: Scoping the project"
   ]
  },
  {
   "cell_type": "markdown",
   "id": "74f20883-e514-4dea-b87a-ad9fc54f845c",
   "metadata": {},
   "source": [
    "Defining my project goals:\n",
    "\n",
    "### Goal 1: initial understanding of how data is distributed\n",
    "1.1 What is the average age in the dataset?\n",
    "- we need to sum(age) for all rows and divide by count(rows)\n",
    "  \n",
    "1.2 How is BMI distributed?\n",
    "- find the range of BMI values\n",
    "- learn how to create a visual chart\n",
    "- create visual chart\n",
    "- learn how to calculate statistics like Q1, Q2, Q3, IQR etc\n",
    "- calculate statistics for BMI\n",
    "\n",
    "### Goal 2: advanced understanding\n",
    "\n",
    "2.1 What is the relationship between each variable and the insurance cost?\n",
    "- learn how to run correlation between variables in 2 columns\n",
    "- run correlation\n",
    "- repeat for all variables\n",
    "  \n",
    "2.2 Can we get the function to calculate cost based on the other variables? with which level of confidence?\n",
    "- learn :)\n",
    "  "
   ]
  },
  {
   "cell_type": "markdown",
   "id": "e75b58cd-7faa-46c2-86ac-5bbc6c4a51af",
   "metadata": {},
   "source": [
    "### Step 3: Import the dataset\n"
   ]
  },
  {
   "cell_type": "code",
   "execution_count": 23,
   "id": "e2d69593-a798-44ed-a779-427417d523c1",
   "metadata": {},
   "outputs": [
    {
     "name": "stdout",
     "output_type": "stream",
     "text": [
      "First 5 results:\n",
      "[{'age': '19', 'sex': 'female', 'bmi': '27.9', 'children': '0', 'smoker': 'yes', 'region': 'southwest', 'charges': '16884.924'}, {'age': '18', 'sex': 'male', 'bmi': '33.77', 'children': '1', 'smoker': 'no', 'region': 'southeast', 'charges': '1725.5523'}, {'age': '28', 'sex': 'male', 'bmi': '33', 'children': '3', 'smoker': 'no', 'region': 'southeast', 'charges': '4449.462'}, {'age': '33', 'sex': 'male', 'bmi': '22.705', 'children': '0', 'smoker': 'no', 'region': 'northwest', 'charges': '21984.47061'}, {'age': '32', 'sex': 'male', 'bmi': '28.88', 'children': '0', 'smoker': 'no', 'region': 'northwest', 'charges': '3866.8552'}]\n",
      "---- \n",
      "First row:\n",
      "{'age': '19', 'sex': 'female', 'bmi': '27.9', 'children': '0', 'smoker': 'yes', 'region': 'southwest', 'charges': '16884.924'}\n",
      "---- \n",
      "First value for 'Sex':\n",
      "female\n",
      "---- \n"
     ]
    }
   ],
   "source": [
    "import csv\n",
    "\n",
    "path_to_datasources = '/Users/egraciani/Python/CodeAcademy/Datasources/'\n",
    "insurance_data_csv_file = 'insurance.csv'\n",
    "file_path = path_to_datasources + insurance_data_csv_file\n",
    "\n",
    "with open(file_path, newline='') as csvfile:\n",
    "    csvreader = csv.DictReader(csvfile)\n",
    "    data = list(csvreader)\n",
    "# Now `data` is a list of dictionaries, where each dictionary represents a row from the CSV file\n",
    "\n",
    "print('First 5 results:')\n",
    "print(data[:5])\n",
    "print('---- ')\n",
    "# Example: Access the first row (as a dictionary)\n",
    "print('First row:')\n",
    "print(data[0])\n",
    "print('---- ')\n",
    "\n",
    "#Example: Access a specific value from the first row\n",
    "# Replace 'ColumnName' with the actual name of the column you're interested in\n",
    "print('First value for \\'Sex\\':')\n",
    "print(data[0]['sex'])\n",
    "print('---- ')\n"
   ]
  },
  {
   "cell_type": "markdown",
   "id": "2de11621-d2a1-4f05-bc4c-84fc408f2c46",
   "metadata": {},
   "source": [
    "## Step 4: Analysis"
   ]
  },
  {
   "cell_type": "markdown",
   "id": "f651f68d-fb0f-4c91-8458-c7bfabf5416d",
   "metadata": {},
   "source": [
    "### 4.1: Clean data"
   ]
  },
  {
   "cell_type": "markdown",
   "id": "76f1f1cf-46fa-40a0-b8d6-cbe20c71379a",
   "metadata": {},
   "source": [
    "Note: Ideally, here we need to clean the data and generate a report with inconsistencies/blanks/errors.\n",
    "\n",
    "Because we cannot use Pandas dataframes yet, let's skip the cleaning step.\n"
   ]
  },
  {
   "cell_type": "markdown",
   "id": "d1a20cb4-54e4-4eab-a438-a352b9b22478",
   "metadata": {},
   "source": [
    "### 4.2: xxx"
   ]
  },
  {
   "cell_type": "code",
   "execution_count": null,
   "id": "299ba5e6-c5c9-4563-9fd8-c7d12e3cdee7",
   "metadata": {},
   "outputs": [],
   "source": []
  },
  {
   "cell_type": "code",
   "execution_count": null,
   "id": "703014fe-097f-4503-9f4e-b447933658d9",
   "metadata": {},
   "outputs": [],
   "source": []
  },
  {
   "cell_type": "code",
   "execution_count": null,
   "id": "58e2fa6e-94c1-4651-be03-780d166b39e2",
   "metadata": {},
   "outputs": [],
   "source": []
  },
  {
   "cell_type": "code",
   "execution_count": null,
   "id": "eb4905f1-c7a9-41d1-b7dc-4e4a600efeff",
   "metadata": {},
   "outputs": [],
   "source": []
  },
  {
   "cell_type": "code",
   "execution_count": null,
   "id": "f7573e63-1a53-4833-b02a-c69a29471d91",
   "metadata": {},
   "outputs": [],
   "source": []
  }
 ],
 "metadata": {
  "kernelspec": {
   "display_name": "Python 3 (ipykernel)",
   "language": "python",
   "name": "python3"
  },
  "language_info": {
   "codemirror_mode": {
    "name": "ipython",
    "version": 3
   },
   "file_extension": ".py",
   "mimetype": "text/x-python",
   "name": "python",
   "nbconvert_exporter": "python",
   "pygments_lexer": "ipython3",
   "version": "3.11.5"
  }
 },
 "nbformat": 4,
 "nbformat_minor": 5
}
